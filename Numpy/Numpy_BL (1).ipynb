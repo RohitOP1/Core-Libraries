{
 "cells": [
  {
   "cell_type": "code",
   "execution_count": 1,
   "id": "436b27fe-3c32-44fb-a082-c258964ea469",
   "metadata": {},
   "outputs": [
    {
     "name": "stdout",
     "output_type": "stream",
     "text": [
      "Original List: [12.23, 13.32, 100, 36.32]\n",
      "One-dimensional numpy array: [ 12.23  13.32 100.    36.32]\n"
     ]
    }
   ],
   "source": [
    "#1\n",
    "import numpy as np\n",
    "\n",
    "num_list = [12.23, 13.32, 100, 36.32]\n",
    "num_array = np.array(num_list)\n",
    "print(\"Original List:\", num_list)\n",
    "print(\"One-dimensional numpy array:\", num_array)"
   ]
  },
  {
   "cell_type": "code",
   "execution_count": 3,
   "id": "5cea15a4-3730-45fb-b04e-45d122598333",
   "metadata": {},
   "outputs": [
    {
     "name": "stdout",
     "output_type": "stream",
     "text": [
      "[[ 2  3  4]\n",
      " [ 5  6  7]\n",
      " [ 8  9 10]]\n"
     ]
    }
   ],
   "source": [
    "#2\n",
    "import numpy as np\n",
    "matrix = np.arange(2, 11).reshape(3, 3)\n",
    "print(matrix)"
   ]
  },
  {
   "cell_type": "code",
   "execution_count": 4,
   "id": "90764b87-e03e-4801-b1e9-de1490f53093",
   "metadata": {},
   "outputs": [
    {
     "name": "stdout",
     "output_type": "stream",
     "text": [
      "[ 0.  0.  0.  0.  0.  0. 11.  0.  0.  0.]\n"
     ]
    }
   ],
   "source": [
    "#3\n",
    "import numpy as np\n",
    "null_vector = np.zeros(10)\n",
    "null_vector[6] = 11\n",
    "print(null_vector)\n"
   ]
  },
  {
   "cell_type": "code",
   "execution_count": 5,
   "id": "bf0fa18d-6d7e-43e9-88d0-157e1992a880",
   "metadata": {},
   "outputs": [
    {
     "name": "stdout",
     "output_type": "stream",
     "text": [
      "[37 36 35 34 33 32 31 30 29 28 27 26 25 24 23 22 21 20 19 18 17 16 15 14\n",
      " 13 12]\n"
     ]
    }
   ],
   "source": [
    "#4\n",
    "import numpy as np\n",
    "\n",
    "arr = np.array([12, 13, 14, 15, 16, 17, 18, 19, 20, 21, 22, 23, 24, 25, 26, \n",
    "                27, 28, 29, 30, 31, 32, 33, 34, 35, 36, 37])\n",
    "reversed_arr = arr[::-1]\n",
    "print(reversed_arr)\n"
   ]
  },
  {
   "cell_type": "code",
   "execution_count": 6,
   "id": "2510c79e-98d7-44ed-8de3-ac327d715816",
   "metadata": {},
   "outputs": [
    {
     "name": "stdout",
     "output_type": "stream",
     "text": [
      "[[0. 0. 0. 0. 0.]\n",
      " [0. 1. 1. 1. 0.]\n",
      " [0. 1. 1. 1. 0.]\n",
      " [0. 1. 1. 1. 0.]\n",
      " [0. 0. 0. 0. 0.]]\n"
     ]
    }
   ],
   "source": [
    "#5\n",
    "import numpy as np\n",
    "array = np.zeros((5, 5))\n",
    "array[1:-1, 1:-1] = 1  #rows,columns\n",
    "print(array)"
   ]
  },
  {
   "cell_type": "code",
   "execution_count": 7,
   "id": "b7c89998-3ab1-4d47-9644-cac7d1ca2569",
   "metadata": {},
   "outputs": [
    {
     "name": "stdout",
     "output_type": "stream",
     "text": [
      "[[1. 1. 1. 1. 1.]\n",
      " [1. 0. 0. 0. 1.]\n",
      " [1. 0. 0. 0. 1.]\n",
      " [1. 0. 0. 0. 1.]\n",
      " [1. 1. 1. 1. 1.]]\n"
     ]
    }
   ],
   "source": [
    "#6\n",
    "import numpy as np\n",
    "array = np.ones((5, 5))\n",
    "array[1:-1, 1:-1] = 0\n",
    "print(array)\n"
   ]
  },
  {
   "cell_type": "code",
   "execution_count": 9,
   "id": "d9bc80b5-30db-4b4c-bdae-b1fa840f2eb9",
   "metadata": {},
   "outputs": [
    {
     "name": "stdout",
     "output_type": "stream",
     "text": [
      "[[0 1 0 1 0 1 0 1]\n",
      " [1 0 1 0 1 0 1 0]\n",
      " [0 1 0 1 0 1 0 1]\n",
      " [1 0 1 0 1 0 1 0]\n",
      " [0 1 0 1 0 1 0 1]\n",
      " [1 0 1 0 1 0 1 0]\n",
      " [0 1 0 1 0 1 0 1]\n",
      " [1 0 1 0 1 0 1 0]]\n"
     ]
    }
   ],
   "source": [
    "#7\n",
    "import numpy as np\n",
    "checkerboard = np.zeros((8, 8), dtype=int)\n",
    "checkerboard[1::2, ::2] = 1  # Fill odd rows, even columns with 1\n",
    "checkerboard[::2, 1::2] = 1  # Fill even rows, odd columns with 1\n",
    "print(checkerboard)"
   ]
  },
  {
   "cell_type": "code",
   "execution_count": 10,
   "id": "d034b268-bc0b-4353-af43-7bcda7435af5",
   "metadata": {},
   "outputs": [
    {
     "name": "stdout",
     "output_type": "stream",
     "text": [
      "List to array:\n",
      "[1 2 3 4 5 6 7 8]\n",
      "\n",
      "Tuple to array:\n",
      "[[8 4 6]\n",
      " [1 2 3]]\n"
     ]
    }
   ],
   "source": [
    "#8\n",
    "import numpy as np\n",
    "\n",
    "list_data = [1, 2, 3, 4, 5, 6, 7, 8]\n",
    "tuple_data = ((8, 4, 6), (1, 2, 3))\n",
    "# Convert to NumPy arrays\n",
    "array_from_list = np.array(list_data)\n",
    "array_from_tuple = np.array(tuple_data)\n",
    "print(\"List to array:\")\n",
    "print(array_from_list)\n",
    "print(\"\\nTuple to array:\")\n",
    "print(array_from_tuple)\n"
   ]
  },
  {
   "cell_type": "code",
   "execution_count": 11,
   "id": "f51194ad-99c1-4ce4-9b81-288aff02839f",
   "metadata": {},
   "outputs": [
    {
     "name": "stdout",
     "output_type": "stream",
     "text": [
      "[10 20 30 40 50 60 70 80 90]\n"
     ]
    }
   ],
   "source": [
    "#9\n",
    "import numpy as np\n",
    "list_data = [10,20,30]\n",
    "appended_list= np.append(list_data,[40,50,60,70,80,90])\n",
    "print(appended_list)"
   ]
  },
  {
   "cell_type": "code",
   "execution_count": 12,
   "id": "b94e0517-71d0-458b-9d2d-5d6a5d55c8f6",
   "metadata": {},
   "outputs": [
    {
     "name": "stdout",
     "output_type": "stream",
     "text": [
      "\n",
      "Real part of the array:\n",
      "[1.         0.70710678]\n",
      "\n",
      "Imaginary part of the array:\n",
      "[0.         0.70710678]\n"
     ]
    }
   ],
   "source": [
    "#10\n",
    "import numpy as np\n",
    "complex_array = np.array([1.00000000 + 0.j, 0.70710678 + 0.70710678j])\n",
    "real_part = np.real(complex_array)\n",
    "imaginary_part = np.imag(complex_array)\n",
    "print(\"\\nReal part of the array:\")\n",
    "print(real_part)\n",
    "print(\"\\nImaginary part of the array:\")\n",
    "print(imaginary_part)"
   ]
  },
  {
   "cell_type": "code",
   "execution_count": 14,
   "id": "06f3ee01-5836-4ead-96e4-032ccdd77a00",
   "metadata": {},
   "outputs": [
    {
     "name": "stdout",
     "output_type": "stream",
     "text": [
      "Size of the array: 3\n",
      "Length of one array element in bytes: 8\n",
      "Total bytes consumed by the elements of the array: 24\n"
     ]
    }
   ],
   "source": [
    "#11\n",
    "import numpy as np\n",
    "arr = np.array([10, 20, 30], dtype=np.int64)\n",
    "size_of_array = arr.size\n",
    "element_size = arr.itemsize   #size of 1 element\n",
    "total_bytes = arr.nbytes #total bytes\n",
    "print(\"Size of the array:\", size_of_array)\n",
    "print(\"Length of one array element in bytes:\", element_size)\n",
    "print(\"Total bytes consumed by the elements of the array:\", total_bytes)"
   ]
  },
  {
   "cell_type": "code",
   "execution_count": 15,
   "id": "9b4a15fd-72eb-439e-a61c-5d02241a04c4",
   "metadata": {},
   "outputs": [
    {
     "name": "stdout",
     "output_type": "stream",
     "text": [
      "[10 40]\n"
     ]
    }
   ],
   "source": [
    "#12\n",
    "import numpy as np\n",
    "\n",
    "arr1= np.array([0, 10, 20, 40, 60])\n",
    "arr2= np.array([10, 30, 40])\n",
    "\n",
    "res=np.intersect1d(arr1, arr2)\n",
    "print(res)"
   ]
  },
  {
   "cell_type": "code",
   "execution_count": 16,
   "id": "a762f31b-4f73-461c-beb0-43f48d5062ca",
   "metadata": {},
   "outputs": [
    {
     "name": "stdout",
     "output_type": "stream",
     "text": [
      "[ 0 20 60 80]\n"
     ]
    }
   ],
   "source": [
    "#13\n",
    "import numpy as np\n",
    "\n",
    "arr1= np.array([0, 10, 20, 40, 60,80])\n",
    "arr2= np.array([10, 30, 40, 50, 70, 90]) \n",
    "\n",
    "res=np.setdiff1d(arr1, arr2)\n",
    "print(res)"
   ]
  },
  {
   "cell_type": "code",
   "execution_count": 17,
   "id": "dc003304-96bf-4c8b-8052-809f7134237b",
   "metadata": {},
   "outputs": [
    {
     "name": "stdout",
     "output_type": "stream",
     "text": [
      "[ 0 20 30 50 60 70 80 90]\n"
     ]
    }
   ],
   "source": [
    "#14\n",
    "import numpy as np\n",
    "\n",
    "arr1= np.array([0, 10, 20, 40, 60,80])\n",
    "arr2= np.array([10, 30, 40, 50, 70, 90]) \n",
    "\n",
    "res=np.setxor1d(arr1, arr2)\n",
    "print(res)"
   ]
  },
  {
   "cell_type": "code",
   "execution_count": 18,
   "id": "584cf1eb-25de-4634-885c-092c3c5edf25",
   "metadata": {},
   "outputs": [
    {
     "name": "stdout",
     "output_type": "stream",
     "text": [
      "Array a: [1 2]\n",
      "Array b: [4 5]\n",
      "\n",
      "a > b\n",
      "[False False]\n",
      "\n",
      "a >= b\n",
      "[False False]\n",
      "\n",
      "a < b\n",
      "[ True  True]\n",
      "\n",
      "a <= b\n",
      "[ True  True]\n"
     ]
    }
   ],
   "source": [
    "#15\n",
    "import numpy as np\n",
    "\n",
    "a = np.array([1, 2])\n",
    "b = np.array([4, 5])\n",
    "\n",
    "\n",
    "greater = a > b\n",
    "greater_equal = a >= b\n",
    "less = a < b\n",
    "less_equal = a <= b\n",
    "\n",
    "print(\"Array a:\", a)\n",
    "print(\"Array b:\", b)\n",
    "print(\"\\na > b\")\n",
    "print(greater)\n",
    "print(\"\\na >= b\")\n",
    "print(greater_equal)\n",
    "print(\"\\na < b\")\n",
    "print(less)\n",
    "print(\"\\na <= b\")\n",
    "print(less_equal)"
   ]
  },
  {
   "cell_type": "code",
   "execution_count": 19,
   "id": "eec9abd7-7ce3-4aa5-96a7-edab1a484e3a",
   "metadata": {},
   "outputs": [
    {
     "name": "stdout",
     "output_type": "stream",
     "text": [
      "Array saved to 'array.txt' successfully!\n"
     ]
    }
   ],
   "source": [
    "#15\n",
    "import numpy as np\n",
    "\n",
    "arr = np.array([[1, 2, 3], [4, 5, 6], [7, 8, 9]])\n",
    "\n",
    "# Save the array to a text file\n",
    "np.savetxt(\"array.txt\", arr, fmt=\"%d\")\n",
    "\n",
    "print(\"Array saved to 'array.txt' successfully!\")\n"
   ]
  },
  {
   "cell_type": "code",
   "execution_count": 20,
   "id": "b338bb75-6119-4a74-8b75-832e7e8b3fcb",
   "metadata": {},
   "outputs": [
    {
     "name": "stdout",
     "output_type": "stream",
     "text": [
      "[10 20 30 20 40 50]\n"
     ]
    }
   ],
   "source": [
    "#16\n",
    "import numpy as np\n",
    "\n",
    "original_array = np.array([[10, 20, 30], [20, 40, 50]])\n",
    "\n",
    "new_flattened_arr=np.ravel(original_array)\n",
    "print(new_flattened_arr)"
   ]
  },
  {
   "cell_type": "code",
   "execution_count": 25,
   "id": "15e55f09-6f35-4e4d-b2cd-e55ccd68c914",
   "metadata": {},
   "outputs": [
    {
     "name": "stdout",
     "output_type": "stream",
     "text": [
      "\n",
      "Data type of the array x is: int64\n",
      "\n",
      "New Type: float32\n",
      "[[ 2.  4.  6.]\n",
      " [ 6.  8. 10.]]\n"
     ]
    }
   ],
   "source": [
    "#17\n",
    "import numpy as np\n",
    "x = np.array([[2, 4, 6], [6, 8, 10]], dtype=np.int64)\n",
    "print(\"\\nData type of the array x is:\", x.dtype)\n",
    "\n",
    "# Convert to float64\n",
    "x_float = x.astype(np.float32)\n",
    "\n",
    "print(\"\\nNew Type:\", x_float.dtype)\n",
    "print(x_float)"
   ]
  },
  {
   "cell_type": "code",
   "execution_count": 26,
   "id": "4ee591b1-9d7e-4284-ae56-e228a37a7094",
   "metadata": {},
   "outputs": [
    {
     "name": "stdout",
     "output_type": "stream",
     "text": [
      "[[1. 0. 0.]\n",
      " [0. 1. 0.]\n",
      " [0. 0. 1.]]\n"
     ]
    }
   ],
   "source": [
    "#18\n",
    "import numpy as np\n",
    "# Create a 3x3 identity-like 3D array\n",
    "array_3d = np.eye(3, dtype=float)\n",
    "print(array_3d)\n"
   ]
  },
  {
   "cell_type": "code",
   "execution_count": 27,
   "id": "0c911477-8863-4732-8bd2-893f4f59a67c",
   "metadata": {},
   "outputs": [
    {
     "name": "stdout",
     "output_type": "stream",
     "text": [
      "[[0. 0. 0.]\n",
      " [0. 1. 1.]\n",
      " [0. 1. 1.]\n",
      " [0. 1. 1.]]\n"
     ]
    }
   ],
   "source": [
    "#19\n",
    "import numpy as np\n",
    "\n",
    "arr1=np.zeros((4,3))\n",
    "for i in range(1,4):\n",
    "    for j in range(1,3):\n",
    "        arr1[i][j]=1\n",
    "print(arr1)\n"
   ]
  },
  {
   "cell_type": "code",
   "execution_count": 28,
   "id": "71d5fdd2-5a26-4882-960c-e306e47afd4a",
   "metadata": {},
   "outputs": [
    {
     "name": "stdout",
     "output_type": "stream",
     "text": [
      "[[ 0  1  3  0  2  4]\n",
      " [ 5  7  9  6  8 10]]\n"
     ]
    }
   ],
   "source": [
    "#20\n",
    "import numpy as np\n",
    "array1 = np.array([[0, 1, 3], [5, 7, 9]])\n",
    "array2 = np.array([[0, 2, 4], [6, 8, 10]])\n",
    "result = np.concatenate((array1, array2), axis=1)\n",
    "\n",
    "print(result)"
   ]
  },
  {
   "cell_type": "code",
   "execution_count": 30,
   "id": "d26bc253-a843-4b71-a8de-b220aa89a929",
   "metadata": {},
   "outputs": [
    {
     "name": "stdout",
     "output_type": "stream",
     "text": [
      "Test the array is read-only or not:\n",
      "Error: assignment destination is read-only\n"
     ]
    }
   ],
   "source": [
    "#21\n",
    "import numpy as np\n",
    "\n",
    "x = np.array([10, 20, 30, 40, 50])\n",
    "\n",
    "# Make the array read-only\n",
    "x.flags.writeable = False\n",
    "\n",
    "# Test the array is read-only or not\n",
    "print(\"Test the array is read-only or not:\")\n",
    "\n",
    "try:\n",
    "    # Attempt to modify the first element\n",
    "    x[0] = 1\n",
    "except ValueError as e:\n",
    "    print(\"Error:\", e)  # Expected error: assignment destination is read-only\n"
   ]
  },
  {
   "cell_type": "code",
   "execution_count": 31,
   "id": "83a27cde-a29f-4320-82da-6744f2efff09",
   "metadata": {},
   "outputs": [
    {
     "name": "stdout",
     "output_type": "stream",
     "text": [
      "[[ 0  3  6  9]\n",
      " [12 15 18 21]\n",
      " [24 27 30 33]]\n"
     ]
    }
   ],
   "source": [
    "#22\n",
    "import numpy as np\n",
    "array = np.arange(12).reshape(3, 4)\n",
    "new_array = array * 3\n",
    "print(new_array)"
   ]
  },
  {
   "cell_type": "code",
   "execution_count": 32,
   "id": "b4cd8f32-f2a1-4674-a14a-1671785e49ca",
   "metadata": {},
   "outputs": [
    {
     "name": "stdout",
     "output_type": "stream",
     "text": [
      "[[0, 1], [2, 3], [4, 5]]\n"
     ]
    }
   ],
   "source": [
    "#23\n",
    "import numpy as np\n",
    "\n",
    "a = np.array([[0, 1], [2, 3], [4, 5]])\n",
    "new_list = a.tolist()\n",
    "\n",
    "print(new_list)\n"
   ]
  },
  {
   "cell_type": "code",
   "execution_count": 33,
   "id": "34096ce7-eb03-4941-94f0-1d9ae821d9b4",
   "metadata": {},
   "outputs": [
    {
     "name": "stdout",
     "output_type": "stream",
     "text": [
      "\n",
      "Print array values with precision 3:\n",
      "[0.678 0.586 0.624 0.097 0.627 0.178 0.834 0.54  0.371 0.575]\n"
     ]
    }
   ],
   "source": [
    "#24\n",
    "import numpy as np\n",
    "\n",
    "\n",
    "array = np.random.rand(10)\n",
    "\n",
    "\n",
    "python_list = array.tolist()\n",
    "\n",
    "\n",
    "np.set_printoptions(precision=3, suppress=True)\n",
    "print(\"\\nPrint array values with precision 3:\")\n",
    "print(array)\n"
   ]
  },
  {
   "cell_type": "code",
   "execution_count": 34,
   "id": "7daafe80-599e-4f4d-9ae2-c93ed6f1cd11",
   "metadata": {},
   "outputs": [
    {
     "name": "stdout",
     "output_type": "stream",
     "text": [
      "Original array elements:\n",
      "[   0.       1.6   1200.       0.235]\n",
      "\n",
      "Print array values with precision 3:\n",
      "[   0.       1.6   1200.       0.235]\n"
     ]
    }
   ],
   "source": [
    "#25\n",
    "import numpy as np\n",
    "\n",
    "# Create a NumPy array with small and large values\n",
    "array = np.array([1.6e-10, 1.6, 1.2e+3, 2.35e-1])\n",
    "\n",
    "print(\"Original array elements:\")\n",
    "print(array)\n",
    "\n",
    "# Suppress scientific notation and print with precision 3\n",
    "np.set_printoptions(precision=3, suppress=True)\n",
    "print(\"\\nPrint array values with precision 3:\")\n",
    "print(array)\n"
   ]
  },
  {
   "cell_type": "code",
   "execution_count": 35,
   "id": "080c1f64-b2bd-42b7-846a-b92ddd4ec4bf",
   "metadata": {},
   "outputs": [
    {
     "name": "stdout",
     "output_type": "stream",
     "text": [
      "[[ 10  20  30 100]\n",
      " [ 40  50  60 200]]\n"
     ]
    }
   ],
   "source": [
    "#26\n",
    "import numpy as np\n",
    "\n",
    "\n",
    "array = np.array([[10, 20, 30], [40, 50, 60]])\n",
    "\n",
    "# new column \n",
    "new_column = np.array([[100], [200]])\n",
    "\n",
    "# Concatenate along axis=1 (columns)\n",
    "new_array = np.hstack((array, new_column))\n",
    "\n",
    "print(new_array)\n"
   ]
  },
  {
   "cell_type": "code",
   "execution_count": 36,
   "id": "ae79babe-88d0-4f50-891b-f1e7ae8b90f6",
   "metadata": {},
   "outputs": [
    {
     "name": "stdout",
     "output_type": "stream",
     "text": [
      "\n",
      "Delete first, fourth and fifth elements:\n",
      "[ 20  30  60  70  80  90 100]\n"
     ]
    }
   ],
   "source": [
    "#27\n",
    "import numpy as np\n",
    "\n",
    "array = np.array([10, 20, 30, 40, 50, 60, 70, 80, 90, 100])\n",
    "to_delete = [0, 3, 4]\n",
    "\n",
    "new_array = np.delete(array, to_delete)\n",
    "\n",
    "print(\"\\nDelete first, fourth and fifth elements:\")\n",
    "print(new_array)\n"
   ]
  },
  {
   "cell_type": "code",
   "execution_count": null,
   "id": "fdf8ea8b-e7a0-478a-acb9-9c9a7bededa0",
   "metadata": {},
   "outputs": [],
   "source": []
  }
 ],
 "metadata": {
  "kernelspec": {
   "display_name": "Python 3 (ipykernel)",
   "language": "python",
   "name": "python3"
  },
  "language_info": {
   "codemirror_mode": {
    "name": "ipython",
    "version": 3
   },
   "file_extension": ".py",
   "mimetype": "text/x-python",
   "name": "python",
   "nbconvert_exporter": "python",
   "pygments_lexer": "ipython3",
   "version": "3.11.2"
  }
 },
 "nbformat": 4,
 "nbformat_minor": 5
}
