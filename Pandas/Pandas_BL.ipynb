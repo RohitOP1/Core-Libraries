{
 "cells": [
  {
   "cell_type": "code",
   "execution_count": 1,
   "id": "126f466d-bcec-4ffd-b5c5-455f8705fdb3",
   "metadata": {},
   "outputs": [],
   "source": [
    "import pandas as pd\n",
    "import numpy as np"
   ]
  },
  {
   "cell_type": "code",
   "execution_count": 2,
   "id": "bc80c9fb-48cb-4595-a663-9b31718ad1a7",
   "metadata": {},
   "outputs": [
    {
     "name": "stdout",
     "output_type": "stream",
     "text": [
      "Task 1:\n",
      "0    10\n",
      "1    20\n",
      "2    30\n",
      "3    40\n",
      "4    50\n",
      "dtype: int64\n"
     ]
    }
   ],
   "source": [
    "# Task 1: Create and display a Pandas Series\n",
    "data = pd.Series([10, 20, 30, 40, 50])\n",
    "print(\"Task 1:\")\n",
    "print(data)"
   ]
  },
  {
   "cell_type": "code",
   "execution_count": 3,
   "id": "a1eaa58e-5546-458d-9bb8-9ea633e4a566",
   "metadata": {},
   "outputs": [
    {
     "name": "stdout",
     "output_type": "stream",
     "text": [
      "\n",
      "Task 2:\n",
      "[10, 20, 30, 40, 50] <class 'list'>\n"
     ]
    }
   ],
   "source": [
    "# Task 2: Convert Series to list\n",
    "lst = data.tolist()\n",
    "print(\"\\nTask 2:\")\n",
    "print(lst, type(lst))"
   ]
  },
  {
   "cell_type": "code",
   "execution_count": 4,
   "id": "b450a617-6761-4c52-8c0d-b58610aca344",
   "metadata": {},
   "outputs": [
    {
     "name": "stdout",
     "output_type": "stream",
     "text": [
      "\n",
      "Task 3:\n",
      "Addition: 0     3\n",
      "1     7\n",
      "2    11\n",
      "3    15\n",
      "4    19\n",
      "dtype: int64\n",
      "Subtraction: 0    1\n",
      "1    1\n",
      "2    1\n",
      "3    1\n",
      "4    1\n",
      "dtype: int64\n",
      "Multiplication: 0     2\n",
      "1    12\n",
      "2    30\n",
      "3    56\n",
      "4    90\n",
      "dtype: int64\n",
      "Division: 0    2.000000\n",
      "1    1.333333\n",
      "2    1.200000\n",
      "3    1.142857\n",
      "4    1.111111\n",
      "dtype: float64\n"
     ]
    }
   ],
   "source": [
    "# Task 3: Arithmetic operations on Pandas Series\n",
    "s1 = pd.Series([2, 4, 6, 8, 10])\n",
    "s2 = pd.Series([1, 3, 5, 7, 9])\n",
    "print(\"\\nTask 3:\")\n",
    "print(\"Addition:\", s1 + s2)\n",
    "print(\"Subtraction:\", s1 - s2)\n",
    "print(\"Multiplication:\", s1 * s2)\n",
    "print(\"Division:\", s1 / s2)"
   ]
  },
  {
   "cell_type": "code",
   "execution_count": 5,
   "id": "18694255-ce8f-473c-a1d4-21fe36307824",
   "metadata": {},
   "outputs": [
    {
     "name": "stdout",
     "output_type": "stream",
     "text": [
      "\n",
      "Task 4:\n",
      "[  1   1   8  27  64 125 216]\n"
     ]
    }
   ],
   "source": [
    "# Task 4: Element-wise power\n",
    "arr1 = np.array([0, 1, 2, 3, 4, 5, 6])\n",
    "arr2 = np.array([0, 1, 3, 3, 3, 3, 3])\n",
    "print(\"\\nTask 4:\")\n",
    "print(np.power(arr1, arr2))"
   ]
  },
  {
   "cell_type": "code",
   "execution_count": 6,
   "id": "5c8c0d8e-16e9-4474-b394-957ec4db7fbb",
   "metadata": {},
   "outputs": [
    {
     "name": "stdout",
     "output_type": "stream",
     "text": [
      "\n",
      "Task 5:\n",
      "        name  score  attempts qualify\n",
      "a  Anastasia   12.5         1     yes\n",
      "b       Dima    9.0         3      no\n",
      "c  Katherine   16.5         2     yes\n",
      "d      James    NaN         3      no\n",
      "e      Emily    9.0         2      no\n",
      "f    Michael   20.0         3     yes\n",
      "g    Matthew   14.5         1     yes\n",
      "h      Laura    NaN         1      no\n",
      "i      Kevin    8.0         2      no\n",
      "j      Jonas   19.0         1     yes\n"
     ]
    }
   ],
   "source": [
    "# Task 5: Create DataFrame from dictionary\n",
    "exam_data = {\n",
    "    'name': ['Anastasia', 'Dima', 'Katherine', 'James', 'Emily', 'Michael', 'Matthew', 'Laura', 'Kevin', 'Jonas'],\n",
    "    'score': [12.5, 9, 16.5, np.nan, 9, 20, 14.5, np.nan, 8, 19],\n",
    "    'attempts': [1, 3, 2, 3, 2, 3, 1, 1, 2, 1],\n",
    "    'qualify': ['yes', 'no', 'yes', 'no', 'no', 'yes', 'yes', 'no', 'no', 'yes']\n",
    "}\n",
    "labels = ['a', 'b', 'c', 'd', 'e', 'f', 'g', 'h', 'i', 'j']  #rows of data\n",
    "df = pd.DataFrame(exam_data, index=labels)\n",
    "print(\"\\nTask 5:\")\n",
    "print(df)\n"
   ]
  },
  {
   "cell_type": "code",
   "execution_count": 7,
   "id": "e7257e27-9247-43ba-94cd-c585f894204f",
   "metadata": {},
   "outputs": [
    {
     "name": "stdout",
     "output_type": "stream",
     "text": [
      "\n",
      "Task 6:\n",
      "<class 'pandas.core.frame.DataFrame'>\n",
      "Index: 10 entries, a to j\n",
      "Data columns (total 4 columns):\n",
      " #   Column    Non-Null Count  Dtype  \n",
      "---  ------    --------------  -----  \n",
      " 0   name      10 non-null     object \n",
      " 1   score     8 non-null      float64\n",
      " 2   attempts  10 non-null     int64  \n",
      " 3   qualify   10 non-null     object \n",
      "dtypes: float64(1), int64(1), object(2)\n",
      "memory usage: 400.0+ bytes\n",
      "None\n"
     ]
    }
   ],
   "source": [
    "# Task 6: Basic information about DataFrame\n",
    "print(\"\\nTask 6:\")\n",
    "print(df.info())"
   ]
  },
  {
   "cell_type": "code",
   "execution_count": 8,
   "id": "bcad75d2-4d34-4d32-8bb8-da2fe0549389",
   "metadata": {},
   "outputs": [
    {
     "name": "stdout",
     "output_type": "stream",
     "text": [
      "\n",
      "Task 7:\n",
      "        name  score  attempts qualify\n",
      "a  Anastasia   12.5         1     yes\n",
      "b       Dima    9.0         3      no\n",
      "c  Katherine   16.5         2     yes\n"
     ]
    }
   ],
   "source": [
    "# Task 7: First 3 rows\n",
    "print(\"\\nTask 7:\")\n",
    "print(df.head(3))"
   ]
  },
  {
   "cell_type": "code",
   "execution_count": 9,
   "id": "e0ccba9c-88c1-4ecf-9209-67b67cd738eb",
   "metadata": {},
   "outputs": [
    {
     "name": "stdout",
     "output_type": "stream",
     "text": [
      "\n",
      "Task 8:\n",
      "        name  score\n",
      "a  Anastasia   12.5\n",
      "b       Dima    9.0\n",
      "c  Katherine   16.5\n",
      "d      James    NaN\n",
      "e      Emily    9.0\n",
      "f    Michael   20.0\n",
      "g    Matthew   14.5\n",
      "h      Laura    NaN\n",
      "i      Kevin    8.0\n",
      "j      Jonas   19.0\n"
     ]
    }
   ],
   "source": [
    "# Task 8: Select 'name' and 'score' columns\n",
    "print(\"\\nTask 8:\")\n",
    "print(df[['name', 'score']])\n"
   ]
  },
  {
   "cell_type": "code",
   "execution_count": 11,
   "id": "30691225-668b-41bb-ad29-1f96de795e3c",
   "metadata": {},
   "outputs": [
    {
     "name": "stdout",
     "output_type": "stream",
     "text": [
      "\n",
      "Task 9:\n",
      "      name  score\n",
      "b     Dima    9.0\n",
      "d    James    NaN\n",
      "f  Michael   20.0\n",
      "g  Matthew   14.5\n"
     ]
    }
   ],
   "source": [
    "# Task 9: Select specific rows and columns\n",
    "print(\"\\nTask 9:\")\n",
    "print(df.loc[['b', 'd', 'f', 'g'], ['name', 'score']])  #label name , col names\n"
   ]
  },
  {
   "cell_type": "code",
   "execution_count": 12,
   "id": "9dc89a3d-3b90-4e06-8b12-9b7f5f1954ee",
   "metadata": {},
   "outputs": [
    {
     "name": "stdout",
     "output_type": "stream",
     "text": [
      "\n",
      "Task 10:\n",
      "      name  score  attempts qualify\n",
      "b     Dima    9.0         3      no\n",
      "d    James    NaN         3      no\n",
      "f  Michael   20.0         3     yes\n"
     ]
    }
   ],
   "source": [
    "# Task 10: Select rows with attempts > 2\n",
    "print(\"\\nTask 10:\")\n",
    "print(df[df['attempts'] > 2])"
   ]
  },
  {
   "cell_type": "code",
   "execution_count": 14,
   "id": "5dcb62bc-a730-40e2-bf91-365fc17beb82",
   "metadata": {},
   "outputs": [
    {
     "name": "stdout",
     "output_type": "stream",
     "text": [
      "\n",
      "Task 11:\n",
      "(10, 4)\n"
     ]
    }
   ],
   "source": [
    "# Task 11: Count rows and columns\n",
    "print(\"\\nTask 11:\")\n",
    "print(df.shape)#counts rows,col"
   ]
  },
  {
   "cell_type": "code",
   "execution_count": 15,
   "id": "4a782ba3-f4ad-4a6a-80a3-b1ca3a83133a",
   "metadata": {},
   "outputs": [
    {
     "name": "stdout",
     "output_type": "stream",
     "text": [
      "\n",
      "Task 12:\n",
      "    name  score  attempts qualify\n",
      "d  James    NaN         3      no\n",
      "h  Laura    NaN         1      no\n"
     ]
    }
   ],
   "source": [
    "# Task 12: Select rows where score is NaN\n",
    "print(\"\\nTask 12:\")\n",
    "print(df[df['score'].isna()])  #isna detects missing values in df"
   ]
  },
  {
   "cell_type": "code",
   "execution_count": 16,
   "id": "7f013455-82c7-4d01-86fd-05453c639d43",
   "metadata": {},
   "outputs": [
    {
     "name": "stdout",
     "output_type": "stream",
     "text": [
      "\n",
      "Task 13:\n",
      "    name  score  attempts qualify\n",
      "j  Jonas   19.0         1     yes\n"
     ]
    }
   ],
   "source": [
    "# Task 13: Rows where attempts < 2 and score > 15\n",
    "print(\"\\nTask 13:\")\n",
    "print(df[(df['attempts'] < 2) & (df['score'] > 15)])"
   ]
  },
  {
   "cell_type": "code",
   "execution_count": 17,
   "id": "3d942732-c135-40f3-b44c-2ea1d692c48e",
   "metadata": {},
   "outputs": [
    {
     "name": "stdout",
     "output_type": "stream",
     "text": [
      "\n",
      "Task 14:\n",
      "        name  score  attempts qualify\n",
      "a  Anastasia   12.5         1     yes\n",
      "b       Dima    9.0         3      no\n",
      "c  Katherine   16.5         2     yes\n",
      "d      James   11.5         3      no\n",
      "e      Emily    9.0         2      no\n",
      "f    Michael   20.0         3     yes\n",
      "g    Matthew   14.5         1     yes\n",
      "h      Laura    NaN         1      no\n",
      "i      Kevin    8.0         2      no\n",
      "j      Jonas   19.0         1     yes\n"
     ]
    }
   ],
   "source": [
    "# Task 14: Change score in row 'd' to 11.5\n",
    "df.at['d', 'score'] = 11.5\n",
    "print(\"\\nTask 14:\")\n",
    "print(df)"
   ]
  },
  {
   "cell_type": "code",
   "execution_count": 18,
   "id": "938126ab-8902-46b0-8254-eec5d5ea913c",
   "metadata": {},
   "outputs": [
    {
     "name": "stdout",
     "output_type": "stream",
     "text": [
      "\n",
      "Task 15:\n",
      "19\n"
     ]
    }
   ],
   "source": [
    "# Task 15: Sum of attempts\n",
    "print(\"\\nTask 15:\")\n",
    "print(df['attempts'].sum())"
   ]
  },
  {
   "cell_type": "code",
   "execution_count": 19,
   "id": "f768f716-8959-42cb-9fc8-e41569856a34",
   "metadata": {},
   "outputs": [
    {
     "name": "stdout",
     "output_type": "stream",
     "text": [
      "\n",
      "Task 16:\n",
      "13.333333333333334\n"
     ]
    }
   ],
   "source": [
    "\n",
    "# Task 16: Mean score\n",
    "print(\"\\nTask 16:\")\n",
    "print(df['score'].mean())\n"
   ]
  },
  {
   "cell_type": "code",
   "execution_count": 21,
   "id": "e489308a-cbe4-4eae-82a5-b2f6e16b1f34",
   "metadata": {},
   "outputs": [
    {
     "name": "stdout",
     "output_type": "stream",
     "text": [
      "\n",
      "Task 17 (After Appending):\n",
      "        name  score  attempts qualify\n",
      "a  Anastasia   12.5         1     yes\n",
      "b       Dima    9.0         3      no\n",
      "c  Katherine   16.5         2     yes\n",
      "d      James   11.5         3      no\n",
      "e      Emily    9.0         2      no\n",
      "f    Michael   20.0         3     yes\n",
      "g    Matthew   14.5         1     yes\n",
      "h      Laura    NaN         1      no\n",
      "i      Kevin    8.0         2      no\n",
      "j      Jonas   19.0         1     yes\n",
      "k     Suresh   15.5         1     yes\n"
     ]
    }
   ],
   "source": [
    "# Task 17: Append a new row and delete it\n",
    "df.loc['k'] = ['Suresh', 15.5, 1, 'yes']\n",
    "print(\"\\nTask 17 (After Appending):\")\n",
    "print(df)                   #################problem"
   ]
  },
  {
   "cell_type": "code",
   "execution_count": 22,
   "id": "2f81357d-e592-4622-abb6-a481f4c255d9",
   "metadata": {},
   "outputs": [
    {
     "name": "stdout",
     "output_type": "stream",
     "text": [
      "\n",
      "Task 18:\n",
      "        name  score  attempts qualify\n",
      "k     Suresh   15.5         1     yes\n",
      "f    Michael   20.0         3     yes\n",
      "g    Matthew   14.5         1     yes\n",
      "h      Laura    NaN         1      no\n",
      "i      Kevin    8.0         2      no\n",
      "c  Katherine   16.5         2     yes\n",
      "j      Jonas   19.0         1     yes\n",
      "d      James   11.5         3      no\n",
      "e      Emily    9.0         2      no\n",
      "b       Dima    9.0         3      no\n",
      "a  Anastasia   12.5         1     yes\n"
     ]
    }
   ],
   "source": [
    "# Task 18: Sort by name (desc) and score (asc)\n",
    "df = df.sort_values(by=['name', 'score'], ascending=[False, True])\n",
    "print(\"\\nTask 18:\")\n",
    "print(df)"
   ]
  },
  {
   "cell_type": "code",
   "execution_count": 23,
   "id": "8260ee68-9127-430d-89fe-5767dfbce517",
   "metadata": {},
   "outputs": [
    {
     "name": "stdout",
     "output_type": "stream",
     "text": [
      "\n",
      "Task 19:\n",
      "        name  score  attempts  qualify\n",
      "k     Suresh   15.5         1     True\n",
      "f    Michael   20.0         3     True\n",
      "g    Matthew   14.5         1     True\n",
      "h      Laura    NaN         1    False\n",
      "i      Kevin    8.0         2    False\n",
      "c  Katherine   16.5         2     True\n",
      "j      Jonas   19.0         1     True\n",
      "d      James   11.5         3    False\n",
      "e      Emily    9.0         2    False\n",
      "b       Dima    9.0         3    False\n",
      "a  Anastasia   12.5         1     True\n"
     ]
    }
   ],
   "source": [
    "# Task 19: Replace 'yes' and 'no' with True and False\n",
    "df['qualify'] = df['qualify'].map({'yes': True, 'no': False})\n",
    "print(\"\\nTask 19:\")\n",
    "print(df)"
   ]
  },
  {
   "cell_type": "code",
   "execution_count": 24,
   "id": "74ce4f03-bba1-4e5b-b00d-bfb567ee1b5f",
   "metadata": {},
   "outputs": [
    {
     "name": "stdout",
     "output_type": "stream",
     "text": [
      "\n",
      "Task 20:\n",
      "        name  score  qualify\n",
      "k     Suresh   15.5     True\n",
      "f    Michael   20.0     True\n",
      "g    Matthew   14.5     True\n",
      "h      Laura    NaN    False\n",
      "i      Kevin    8.0    False\n",
      "c  Katherine   16.5     True\n",
      "j      Jonas   19.0     True\n",
      "d      James   11.5    False\n",
      "e      Emily    9.0    False\n",
      "b       Dima    9.0    False\n",
      "a  Anastasia   12.5     True\n"
     ]
    }
   ],
   "source": [
    "# Task 20: Delete 'attempts' column\n",
    "df = df.drop(columns=['attempts'])\n",
    "print(\"\\nTask 20:\")\n",
    "print(df)\n"
   ]
  },
  {
   "cell_type": "code",
   "execution_count": 26,
   "id": "0015a339-6dc9-4b6c-9c30-bdaaecd95865",
   "metadata": {},
   "outputs": [
    {
     "name": "stdout",
     "output_type": "stream",
     "text": [
      "        name  score  qualify  age\n",
      "k     Suresh   15.5     True   20\n",
      "f    Michael   20.0     True   21\n",
      "g    Matthew   14.5     True   22\n",
      "h      Laura    NaN    False   23\n",
      "i      Kevin    8.0    False   20\n",
      "c  Katherine   16.5     True   21\n",
      "j      Jonas   19.0     True   20\n",
      "d      James   11.5    False   25\n",
      "e      Emily    9.0    False   23\n",
      "b       Dima    9.0    False   20\n",
      "a  Anastasia   12.5     True   21\n"
     ]
    }
   ],
   "source": [
    "#21\n",
    "df[\"age\"]=[20,21,22,23,20,21,20,25,23,20,21]  #inserting a new col\n",
    "print(df)"
   ]
  },
  {
   "cell_type": "code",
   "execution_count": 27,
   "id": "d2578133-ccdf-4253-a36e-874b614d7c09",
   "metadata": {},
   "outputs": [
    {
     "name": "stdout",
     "output_type": "stream",
     "text": [
      "Index: k, Name: Suresh, Score: 15.5\n",
      "Index: f, Name: Michael, Score: 20.0\n",
      "Index: g, Name: Matthew, Score: 14.5\n",
      "Index: h, Name: Laura, Score: nan\n",
      "Index: i, Name: Kevin, Score: 8.0\n",
      "Index: c, Name: Katherine, Score: 16.5\n",
      "Index: j, Name: Jonas, Score: 19.0\n",
      "Index: d, Name: James, Score: 11.5\n",
      "Index: e, Name: Emily, Score: 9.0\n",
      "Index: b, Name: Dima, Score: 9.0\n",
      "Index: a, Name: Anastasia, Score: 12.5\n"
     ]
    }
   ],
   "source": [
    "#22 iterating over rows\n",
    "for index, row in df.iterrows():\n",
    "    print(f\"Index: {index}, Name: {row['name']}, Score: {row['score']}\")"
   ]
  },
  {
   "cell_type": "code",
   "execution_count": 28,
   "id": "e039c59e-bbdd-45bd-90a7-60ea636a7057",
   "metadata": {},
   "outputs": [
    {
     "name": "stdout",
     "output_type": "stream",
     "text": [
      "\n",
      "List of column headers: ['name', 'score', 'qualify', 'age']\n"
     ]
    }
   ],
   "source": [
    "# 23. Get a list of column headers\n",
    "column_headers = list(df.columns)\n",
    "print(\"\\nList of column headers:\", column_headers)"
   ]
  },
  {
   "cell_type": "code",
   "execution_count": null,
   "id": "3f302cc0-246f-41a6-a030-f187fb1cd624",
   "metadata": {},
   "outputs": [],
   "source": []
  }
 ],
 "metadata": {
  "kernelspec": {
   "display_name": "Python 3 (ipykernel)",
   "language": "python",
   "name": "python3"
  },
  "language_info": {
   "codemirror_mode": {
    "name": "ipython",
    "version": 3
   },
   "file_extension": ".py",
   "mimetype": "text/x-python",
   "name": "python",
   "nbconvert_exporter": "python",
   "pygments_lexer": "ipython3",
   "version": "3.11.2"
  }
 },
 "nbformat": 4,
 "nbformat_minor": 5
}
